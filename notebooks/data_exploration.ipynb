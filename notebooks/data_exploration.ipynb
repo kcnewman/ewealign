{
 "cells": [
  {
   "cell_type": "markdown",
   "id": "6e224f09",
   "metadata": {},
   "source": [
    "# Dependencies\n"
   ]
  },
  {
   "cell_type": "code",
   "execution_count": 1,
   "id": "a142d9a3",
   "metadata": {},
   "outputs": [],
   "source": [
    "import pandas as pd\n",
    "import numpy as np"
   ]
  },
  {
   "cell_type": "markdown",
   "id": "4b5761d1",
   "metadata": {},
   "source": [
    "# Exploration"
   ]
  },
  {
   "cell_type": "code",
   "execution_count": 2,
   "id": "a7de06e2",
   "metadata": {},
   "outputs": [
    {
     "data": {
      "text/html": [
       "<div>\n",
       "<style scoped>\n",
       "    .dataframe tbody tr th:only-of-type {\n",
       "        vertical-align: middle;\n",
       "    }\n",
       "\n",
       "    .dataframe tbody tr th {\n",
       "        vertical-align: top;\n",
       "    }\n",
       "\n",
       "    .dataframe thead th {\n",
       "        text-align: right;\n",
       "    }\n",
       "</style>\n",
       "<table border=\"1\" class=\"dataframe\">\n",
       "  <thead>\n",
       "    <tr style=\"text-align: right;\">\n",
       "      <th></th>\n",
       "      <th>English</th>\n",
       "      <th>Akuapem Twi</th>\n",
       "    </tr>\n",
       "  </thead>\n",
       "  <tbody>\n",
       "    <tr>\n",
       "      <th>0</th>\n",
       "      <td>What she lacks in charisma she makes up for wi...</td>\n",
       "      <td>Nea onni ho adwempa no de adwumaden na ɛba.</td>\n",
       "    </tr>\n",
       "    <tr>\n",
       "      <th>1</th>\n",
       "      <td>There was nothing I could do about it.</td>\n",
       "      <td>Na biribiara nni hɛ a metumi ayɔ</td>\n",
       "    </tr>\n",
       "    <tr>\n",
       "      <th>2</th>\n",
       "      <td>Kwaku saw John and Abena holding hands.</td>\n",
       "      <td>Kwaku hui se  John ne Abena kurakura wɛn nsa.</td>\n",
       "    </tr>\n",
       "    <tr>\n",
       "      <th>3</th>\n",
       "      <td>Can you stay till 2:30?</td>\n",
       "      <td>So wubetumi atena ha akosi nnɛnmienu npaamu ad...</td>\n",
       "    </tr>\n",
       "    <tr>\n",
       "      <th>4</th>\n",
       "      <td>You haven't got much time.</td>\n",
       "      <td>Wonni mmre</td>\n",
       "    </tr>\n",
       "  </tbody>\n",
       "</table>\n",
       "</div>"
      ],
      "text/plain": [
       "                                             English  \\\n",
       "0  What she lacks in charisma she makes up for wi...   \n",
       "1             There was nothing I could do about it.   \n",
       "2            Kwaku saw John and Abena holding hands.   \n",
       "3                            Can you stay till 2:30?   \n",
       "4                         You haven't got much time.   \n",
       "\n",
       "                                         Akuapem Twi  \n",
       "0        Nea onni ho adwempa no de adwumaden na ɛba.  \n",
       "1                   Na biribiara nni hɛ a metumi ayɔ  \n",
       "2      Kwaku hui se  John ne Abena kurakura wɛn nsa.  \n",
       "3  So wubetumi atena ha akosi nnɛnmienu npaamu ad...  \n",
       "4                                         Wonni mmre  "
      ]
     },
     "execution_count": 2,
     "metadata": {},
     "output_type": "execute_result"
    }
   ],
   "source": [
    "df = pd.read_csv(\"../data/raw/verified_data.csv\")\n",
    "df.head()"
   ]
  },
  {
   "cell_type": "code",
   "execution_count": 3,
   "id": "1bfc1c10",
   "metadata": {},
   "outputs": [
    {
     "data": {
      "text/html": [
       "<div>\n",
       "<style scoped>\n",
       "    .dataframe tbody tr th:only-of-type {\n",
       "        vertical-align: middle;\n",
       "    }\n",
       "\n",
       "    .dataframe tbody tr th {\n",
       "        vertical-align: top;\n",
       "    }\n",
       "\n",
       "    .dataframe thead th {\n",
       "        text-align: right;\n",
       "    }\n",
       "</style>\n",
       "<table border=\"1\" class=\"dataframe\">\n",
       "  <thead>\n",
       "    <tr style=\"text-align: right;\">\n",
       "      <th></th>\n",
       "      <th>English</th>\n",
       "      <th>Akuapem Twi</th>\n",
       "    </tr>\n",
       "  </thead>\n",
       "  <tbody>\n",
       "    <tr>\n",
       "      <th>count</th>\n",
       "      <td>25420</td>\n",
       "      <td>25420</td>\n",
       "    </tr>\n",
       "    <tr>\n",
       "      <th>unique</th>\n",
       "      <td>25139</td>\n",
       "      <td>24764</td>\n",
       "    </tr>\n",
       "    <tr>\n",
       "      <th>top</th>\n",
       "      <td>There are lots of things I want to talk about.</td>\n",
       "      <td>Me ho dwiriw me.</td>\n",
       "    </tr>\n",
       "    <tr>\n",
       "      <th>freq</th>\n",
       "      <td>2</td>\n",
       "      <td>7</td>\n",
       "    </tr>\n",
       "  </tbody>\n",
       "</table>\n",
       "</div>"
      ],
      "text/plain": [
       "                                               English       Akuapem Twi\n",
       "count                                            25420             25420\n",
       "unique                                           25139             24764\n",
       "top     There are lots of things I want to talk about.  Me ho dwiriw me.\n",
       "freq                                                 2                 7"
      ]
     },
     "execution_count": 3,
     "metadata": {},
     "output_type": "execute_result"
    }
   ],
   "source": [
    "df.describe()"
   ]
  },
  {
   "cell_type": "code",
   "execution_count": 5,
   "id": "e4b66e5c",
   "metadata": {},
   "outputs": [],
   "source": [
    "twi_corpus = df[\"Akuapem Twi\"].dropna()"
   ]
  },
  {
   "cell_type": "code",
   "execution_count": 6,
   "id": "2d0747f4",
   "metadata": {},
   "outputs": [],
   "source": [
    "twi_corpus.to_csv(\"twi_corpus.txt\", index=False, header=False)"
   ]
  },
  {
   "cell_type": "code",
   "execution_count": null,
   "id": "9493fec8",
   "metadata": {},
   "outputs": [],
   "source": []
  }
 ],
 "metadata": {
  "kernelspec": {
   "display_name": "mlp",
   "language": "python",
   "name": "python3"
  },
  "language_info": {
   "codemirror_mode": {
    "name": "ipython",
    "version": 3
   },
   "file_extension": ".py",
   "mimetype": "text/x-python",
   "name": "python",
   "nbconvert_exporter": "python",
   "pygments_lexer": "ipython3",
   "version": "3.11.11"
  }
 },
 "nbformat": 4,
 "nbformat_minor": 5
}
